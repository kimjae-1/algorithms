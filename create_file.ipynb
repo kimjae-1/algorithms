{
 "cells": [
  {
   "cell_type": "code",
   "execution_count": null,
   "metadata": {},
   "outputs": [],
   "source": [
    "def make_file(typ,file_name):\n",
    "    path = os.path.join('c:/Users/Playdata/Documents/algorithms',typ,file_name)\n",
    "    os.makedirs(path, exist_ok = True)\n",
    "    # main.py 파일 생성\n",
    "    with open(os.path.join(path, 'main.py'), 'w') as file:\n",
    "        file.write(\"import sys\\n\")\n",
    "        file.write(f\"sys.stdin = open('./{typ}/{file_name}/input.txt', 'r')\\n\")\n",
    "        file.write(\"input = sys.stdin.readline\")\n",
    "    # input.txt 파일 생성\n",
    "    with open(os.path.join(path, 'input.txt'), 'w'):\n",
    "        pass\n",
    "    # README.md 파일 생성\n",
    "    with open(os.path.join(path, 'README.md'), 'w'):\n",
    "        pass"
   ]
  },
  {
   "cell_type": "code",
   "execution_count": null,
   "metadata": {},
   "outputs": [],
   "source": [
    "make_file('solved.ac','1181_단어정렬')"
   ]
  },
  {
   "cell_type": "code",
   "execution_count": null,
   "metadata": {},
   "outputs": [],
   "source": [
    "print(1)"
   ]
  },
  {
   "cell_type": "code",
   "execution_count": null,
   "metadata": {},
   "outputs": [],
   "source": []
  }
 ],
 "metadata": {
  "kernelspec": {
   "display_name": "Python 3",
   "language": "python",
   "name": "python3"
  },
  "language_info": {
   "name": "python",
   "version": "3.9.6"
  }
 },
 "nbformat": 4,
 "nbformat_minor": 2
}
